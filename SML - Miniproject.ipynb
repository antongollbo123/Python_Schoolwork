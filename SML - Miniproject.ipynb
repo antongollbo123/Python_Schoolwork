{
 "cells": [
  {
   "cell_type": "code",
   "execution_count": 2,
   "metadata": {},
   "outputs": [],
   "source": [
    "import pandas as pd\n",
    "import numpy as np\n",
    "import matplotlib\n",
    "import matplotlib.pyplot as plt\n",
    "\n",
    "import sklearn.preprocessing as skl_pre\n",
    "import sklearn.linear_model as skl_lm\n",
    "import sklearn.discriminant_analysis as skl_da\n",
    "import sklearn.neighbors as skl_nb\n",
    "import sklearn.model_selection as skl_ms\n",
    "\n",
    "import pandas as pd\n",
    "import numpy as np \n",
    "from sklearn.neighbors import KNeighborsClassifier\n",
    "from sklearn.preprocessing import StandardScaler\n",
    "from sklearn.preprocessing import MinMaxScaler\n",
    "from sklearn.preprocessing import RobustScaler\n",
    "from sklearn.metrics import accuracy_score\n",
    "from sklearn.model_selection import train_test_split\n",
    "from sklearn.metrics import roc_auc_score\n",
    "from sklearn.feature_selection import VarianceThreshold\n",
    "from sklearn.ensemble import ExtraTreesClassifier\n",
    "from sklearn.feature_selection import SelectFromModel\n",
    "from sklearn.neural_network import MLPClassifier\n",
    "\n",
    "\n",
    "\n",
    "import graphviz"
   ]
  },
  {
   "cell_type": "code",
   "execution_count": 2,
   "metadata": {},
   "outputs": [],
   "source": [
    "#IMPROVEMENTS TO TRY:\n",
    "# - DUMMY VARIABLES\n",
    "# - NORMALIZE SCALE\n",
    "# - Variance threshold\n",
    "# - \n",
    "#\n",
    "\n"
   ]
  },
  {
   "cell_type": "code",
   "execution_count": 7,
   "metadata": {},
   "outputs": [
    {
     "data": {
      "text/html": [
       "<div>\n",
       "<style scoped>\n",
       "    .dataframe tbody tr th:only-of-type {\n",
       "        vertical-align: middle;\n",
       "    }\n",
       "\n",
       "    .dataframe tbody tr th {\n",
       "        vertical-align: top;\n",
       "    }\n",
       "\n",
       "    .dataframe thead th {\n",
       "        text-align: right;\n",
       "    }\n",
       "</style>\n",
       "<table border=\"1\" class=\"dataframe\">\n",
       "  <thead>\n",
       "    <tr style=\"text-align: right;\">\n",
       "      <th></th>\n",
       "      <th>acousticness</th>\n",
       "      <th>danceability</th>\n",
       "      <th>duration</th>\n",
       "      <th>energy</th>\n",
       "      <th>instrumentalness</th>\n",
       "      <th>key</th>\n",
       "      <th>liveness</th>\n",
       "      <th>loudness</th>\n",
       "      <th>mode</th>\n",
       "      <th>speechiness</th>\n",
       "      <th>tempo</th>\n",
       "      <th>time_signature</th>\n",
       "      <th>valence</th>\n",
       "      <th>label</th>\n",
       "    </tr>\n",
       "  </thead>\n",
       "  <tbody>\n",
       "    <tr>\n",
       "      <td>0</td>\n",
       "      <td>0.88500</td>\n",
       "      <td>0.366</td>\n",
       "      <td>352000</td>\n",
       "      <td>0.1390</td>\n",
       "      <td>0.913000</td>\n",
       "      <td>7</td>\n",
       "      <td>0.0725</td>\n",
       "      <td>-19.978</td>\n",
       "      <td>1</td>\n",
       "      <td>0.0390</td>\n",
       "      <td>139.478</td>\n",
       "      <td>4</td>\n",
       "      <td>0.310</td>\n",
       "      <td>1</td>\n",
       "    </tr>\n",
       "    <tr>\n",
       "      <td>1</td>\n",
       "      <td>0.12400</td>\n",
       "      <td>0.863</td>\n",
       "      <td>236293</td>\n",
       "      <td>0.5760</td>\n",
       "      <td>0.000000</td>\n",
       "      <td>5</td>\n",
       "      <td>0.1430</td>\n",
       "      <td>-5.687</td>\n",
       "      <td>0</td>\n",
       "      <td>0.2390</td>\n",
       "      <td>132.054</td>\n",
       "      <td>4</td>\n",
       "      <td>0.832</td>\n",
       "      <td>0</td>\n",
       "    </tr>\n",
       "    <tr>\n",
       "      <td>2</td>\n",
       "      <td>0.18400</td>\n",
       "      <td>0.631</td>\n",
       "      <td>219160</td>\n",
       "      <td>0.6990</td>\n",
       "      <td>0.000000</td>\n",
       "      <td>9</td>\n",
       "      <td>0.1080</td>\n",
       "      <td>-7.625</td>\n",
       "      <td>0</td>\n",
       "      <td>0.0284</td>\n",
       "      <td>128.433</td>\n",
       "      <td>4</td>\n",
       "      <td>0.707</td>\n",
       "      <td>1</td>\n",
       "    </tr>\n",
       "    <tr>\n",
       "      <td>3</td>\n",
       "      <td>0.01080</td>\n",
       "      <td>0.800</td>\n",
       "      <td>201840</td>\n",
       "      <td>0.8940</td>\n",
       "      <td>0.437000</td>\n",
       "      <td>6</td>\n",
       "      <td>0.0285</td>\n",
       "      <td>-7.346</td>\n",
       "      <td>0</td>\n",
       "      <td>0.0400</td>\n",
       "      <td>138.480</td>\n",
       "      <td>4</td>\n",
       "      <td>0.967</td>\n",
       "      <td>0</td>\n",
       "    </tr>\n",
       "    <tr>\n",
       "      <td>4</td>\n",
       "      <td>0.00440</td>\n",
       "      <td>0.788</td>\n",
       "      <td>228000</td>\n",
       "      <td>0.6730</td>\n",
       "      <td>0.000005</td>\n",
       "      <td>9</td>\n",
       "      <td>0.0755</td>\n",
       "      <td>-9.232</td>\n",
       "      <td>1</td>\n",
       "      <td>0.1990</td>\n",
       "      <td>99.979</td>\n",
       "      <td>4</td>\n",
       "      <td>0.478</td>\n",
       "      <td>0</td>\n",
       "    </tr>\n",
       "    <tr>\n",
       "      <td>...</td>\n",
       "      <td>...</td>\n",
       "      <td>...</td>\n",
       "      <td>...</td>\n",
       "      <td>...</td>\n",
       "      <td>...</td>\n",
       "      <td>...</td>\n",
       "      <td>...</td>\n",
       "      <td>...</td>\n",
       "      <td>...</td>\n",
       "      <td>...</td>\n",
       "      <td>...</td>\n",
       "      <td>...</td>\n",
       "      <td>...</td>\n",
       "      <td>...</td>\n",
       "    </tr>\n",
       "    <tr>\n",
       "      <td>745</td>\n",
       "      <td>0.82300</td>\n",
       "      <td>0.635</td>\n",
       "      <td>89067</td>\n",
       "      <td>0.3380</td>\n",
       "      <td>0.000434</td>\n",
       "      <td>9</td>\n",
       "      <td>0.2210</td>\n",
       "      <td>-8.078</td>\n",
       "      <td>1</td>\n",
       "      <td>0.5120</td>\n",
       "      <td>168.163</td>\n",
       "      <td>3</td>\n",
       "      <td>0.736</td>\n",
       "      <td>0</td>\n",
       "    </tr>\n",
       "    <tr>\n",
       "      <td>746</td>\n",
       "      <td>0.03250</td>\n",
       "      <td>0.544</td>\n",
       "      <td>238493</td>\n",
       "      <td>0.5000</td>\n",
       "      <td>0.000004</td>\n",
       "      <td>11</td>\n",
       "      <td>0.1090</td>\n",
       "      <td>-8.253</td>\n",
       "      <td>1</td>\n",
       "      <td>0.0260</td>\n",
       "      <td>93.621</td>\n",
       "      <td>4</td>\n",
       "      <td>0.177</td>\n",
       "      <td>1</td>\n",
       "    </tr>\n",
       "    <tr>\n",
       "      <td>747</td>\n",
       "      <td>0.99200</td>\n",
       "      <td>0.525</td>\n",
       "      <td>226293</td>\n",
       "      <td>0.0633</td>\n",
       "      <td>0.905000</td>\n",
       "      <td>9</td>\n",
       "      <td>0.1050</td>\n",
       "      <td>-23.072</td>\n",
       "      <td>1</td>\n",
       "      <td>0.0497</td>\n",
       "      <td>71.855</td>\n",
       "      <td>4</td>\n",
       "      <td>0.297</td>\n",
       "      <td>1</td>\n",
       "    </tr>\n",
       "    <tr>\n",
       "      <td>748</td>\n",
       "      <td>0.54500</td>\n",
       "      <td>0.365</td>\n",
       "      <td>237267</td>\n",
       "      <td>0.5200</td>\n",
       "      <td>0.000000</td>\n",
       "      <td>9</td>\n",
       "      <td>0.1110</td>\n",
       "      <td>-6.520</td>\n",
       "      <td>1</td>\n",
       "      <td>0.0331</td>\n",
       "      <td>106.152</td>\n",
       "      <td>4</td>\n",
       "      <td>0.400</td>\n",
       "      <td>1</td>\n",
       "    </tr>\n",
       "    <tr>\n",
       "      <td>749</td>\n",
       "      <td>0.00513</td>\n",
       "      <td>0.834</td>\n",
       "      <td>312820</td>\n",
       "      <td>0.7300</td>\n",
       "      <td>0.000000</td>\n",
       "      <td>8</td>\n",
       "      <td>0.1240</td>\n",
       "      <td>-3.714</td>\n",
       "      <td>1</td>\n",
       "      <td>0.2220</td>\n",
       "      <td>155.008</td>\n",
       "      <td>4</td>\n",
       "      <td>0.446</td>\n",
       "      <td>0</td>\n",
       "    </tr>\n",
       "  </tbody>\n",
       "</table>\n",
       "<p>750 rows × 14 columns</p>\n",
       "</div>"
      ],
      "text/plain": [
       "     acousticness  danceability  duration  energy  instrumentalness  key  \\\n",
       "0         0.88500         0.366    352000  0.1390          0.913000    7   \n",
       "1         0.12400         0.863    236293  0.5760          0.000000    5   \n",
       "2         0.18400         0.631    219160  0.6990          0.000000    9   \n",
       "3         0.01080         0.800    201840  0.8940          0.437000    6   \n",
       "4         0.00440         0.788    228000  0.6730          0.000005    9   \n",
       "..            ...           ...       ...     ...               ...  ...   \n",
       "745       0.82300         0.635     89067  0.3380          0.000434    9   \n",
       "746       0.03250         0.544    238493  0.5000          0.000004   11   \n",
       "747       0.99200         0.525    226293  0.0633          0.905000    9   \n",
       "748       0.54500         0.365    237267  0.5200          0.000000    9   \n",
       "749       0.00513         0.834    312820  0.7300          0.000000    8   \n",
       "\n",
       "     liveness  loudness  mode  speechiness    tempo  time_signature  valence  \\\n",
       "0      0.0725   -19.978     1       0.0390  139.478               4    0.310   \n",
       "1      0.1430    -5.687     0       0.2390  132.054               4    0.832   \n",
       "2      0.1080    -7.625     0       0.0284  128.433               4    0.707   \n",
       "3      0.0285    -7.346     0       0.0400  138.480               4    0.967   \n",
       "4      0.0755    -9.232     1       0.1990   99.979               4    0.478   \n",
       "..        ...       ...   ...          ...      ...             ...      ...   \n",
       "745    0.2210    -8.078     1       0.5120  168.163               3    0.736   \n",
       "746    0.1090    -8.253     1       0.0260   93.621               4    0.177   \n",
       "747    0.1050   -23.072     1       0.0497   71.855               4    0.297   \n",
       "748    0.1110    -6.520     1       0.0331  106.152               4    0.400   \n",
       "749    0.1240    -3.714     1       0.2220  155.008               4    0.446   \n",
       "\n",
       "     label  \n",
       "0        1  \n",
       "1        0  \n",
       "2        1  \n",
       "3        0  \n",
       "4        0  \n",
       "..     ...  \n",
       "745      0  \n",
       "746      1  \n",
       "747      1  \n",
       "748      1  \n",
       "749      0  \n",
       "\n",
       "[750 rows x 14 columns]"
      ]
     },
     "execution_count": 7,
     "metadata": {},
     "output_type": "execute_result"
    }
   ],
   "source": [
    "\n",
    "url = r'C:\\Users\\Anton\\Documents\\Anton_Gollbo\\Skolarbete\\STS4\\SML\\training_data.csv'\n",
    "url2 = r'C:\\Users\\Anton\\Documents\\Anton_Gollbo\\Skolarbete\\STS4\\SML\\songs_to_classify.csv'\n",
    "songTraining = pd.read_csv(url, dtype={'ID': str}).dropna().reset_index(drop=True)\n",
    "songTest = pd.read_csv(url2, dtype={'ID': str}).dropna().reset_index(drop=True)\n",
    "songTraining\n"
   ]
  },
  {
   "cell_type": "markdown",
   "metadata": {},
   "source": [
    "# 1. Model using scaling and dummy variables on time signature and mode\n"
   ]
  },
  {
   "cell_type": "code",
   "execution_count": 4,
   "metadata": {},
   "outputs": [
    {
     "ename": "IndentationError",
     "evalue": "expected an indented block (<ipython-input-4-423a28e37333>, line 9)",
     "output_type": "error",
     "traceback": [
      "\u001b[1;36m  File \u001b[1;32m\"<ipython-input-4-423a28e37333>\"\u001b[1;36m, line \u001b[1;32m9\u001b[0m\n\u001b[1;33m    dummy = pd.get_dummies(df_model[\"time_signature\"])\u001b[0m\n\u001b[1;37m        ^\u001b[0m\n\u001b[1;31mIndentationError\u001b[0m\u001b[1;31m:\u001b[0m expected an indented block\n"
     ]
    }
   ],
   "source": [
    "df_model = songTraining.copy()\n",
    "scaler = StandardScaler() \n",
    "features = [[\"acousticness\"]]\n",
    "\n",
    "for feature in features:\n",
    "  #  df_model[feature] = scaler.fit_transform(df_model[feature])#Create KNN Object\n",
    " \n",
    "#Create x and y variable\n",
    "dummy = pd.get_dummies(df_model[\"time_signature\"])\n",
    "df_model = pd.concat([df_model, dummy], axis = 1)\n",
    "dummy2 = pd.get_dummies(df_model[\"key\"])\n",
    "df_model = pd.concat([df_model, dummy2], axis = 1)\n",
    "\n",
    "\n",
    "iteration_accuracies = []\n",
    "\n",
    "x = df_model.drop(columns=['label'])\n",
    "y = df_model['label']#Split data\n",
    "x_train, x_test, y_train, y_test = train_test_split(x, y, test_size=0.3)#Training the model\n",
    "best_accuracy = 0\n",
    "best_k = 0\n",
    "K = np.arange(1,100)\n",
    "\n",
    "for k in K:\n",
    "    knn = KNeighborsClassifier(n_neighbors = k)\n",
    "    knn.fit(x_train, y_train)#Predict testing set\n",
    "    y_pred = knn.predict(x_test)#Check performance using accuracy\n",
    "    \n",
    "    iteration_accuracy = accuracy_score(y_test,y_pred)\n",
    "    iteration_accuracies.append(iteration_accuracy)\n",
    "    \n",
    "    if iteration_accuracy> best_accuracy:\n",
    "        best_accuracy = iteration_accuracy\n",
    "        best_k = k\n",
    "        \n",
    "print(best_accuracy, best_k)\n",
    "\n",
    "plt.plot(K, iteration_accuracies)\n",
    "plt.plot(best_k,best_accuracy , marker=\"8\")\n",
    "plt.xlabel(\"Varying k-values\")\n",
    "plt.ylabel(\"Corresponding accuracy\")\n",
    "x"
   ]
  },
  {
   "cell_type": "markdown",
   "metadata": {},
   "source": [
    "# 2. Model using feature selection using tree based estimators ExtraTreesClassifier\n"
   ]
  },
  {
   "cell_type": "code",
   "execution_count": null,
   "metadata": {},
   "outputs": [],
   "source": [
    "df_model = songTraining.copy()\n",
    "x = df_model.drop(columns=['label'])\n",
    "y = df_model['label']#Split data\n",
    "\n",
    "clf = ExtraTreesClassifier(n_estimators=10, criterion = \"entropy\")\n",
    "\n",
    "clf = clf.fit(x, y)\n",
    "clf.feature_importances_  \n",
    "\n",
    "model = SelectFromModel(clf, prefit=True)\n",
    "df_model_new = model.transform(x)\n",
    "\n",
    "iteration_accuracies = []\n",
    "best_accuracy = 0\n",
    "best_k = 0\n",
    "\n",
    "x_train, x_test, y_train, y_test = train_test_split(df_model_new, y, test_size=0.3)\n",
    "\n",
    "K = np.arange(1,100)\n",
    "\n",
    "for k in K:\n",
    "    knn = KNeighborsClassifier(n_neighbors = k)\n",
    "    knn.fit(x_train, y_train)#Predict testing set\n",
    "    y_pred = knn.predict(x_test)#Check performance using accuracy\n",
    "    \n",
    "    iteration_accuracy = accuracy_score(y_test,y_pred)\n",
    "    iteration_accuracies.append(iteration_accuracy)\n",
    "    \n",
    "    if iteration_accuracy> best_accuracy:\n",
    "        best_accuracy = iteration_accuracy\n",
    "        best_k = k\n",
    "\n",
    "print(best_accuracy, best_k)\n",
    "\n",
    "plt.plot(K, iteration_accuracies)\n",
    "plt.plot(best_k,best_accuracy , marker=\"8\")\n",
    "plt.xlabel(\"Varying k-values\")\n",
    "plt.ylabel(\"Corresponding accuracy\")\n",
    "plt.show()"
   ]
  },
  {
   "cell_type": "code",
   "execution_count": null,
   "metadata": {},
   "outputs": [],
   "source": [
    "print(df_model_new)"
   ]
  },
  {
   "cell_type": "markdown",
   "metadata": {},
   "source": [
    "# 3. Cross validation of K-NN"
   ]
  },
  {
   "cell_type": "code",
   "execution_count": null,
   "metadata": {},
   "outputs": [],
   "source": [
    "runs = 10\n",
    "k = np.arange(1,100)\n",
    "\n",
    "misclassifications = np.zeros((runs,len(k)))\n",
    "\n",
    "for i in range(runs):\n",
    "    X_train, X_validation, y_train, y_validation = skl_ms.train_test_split(X,y, test_size = 0.3)\n",
    "    \n",
    "    for j,ki in enumerate(k):\n",
    "        kNNModel = skl_nb.KNeighborsClassifier(n_neighbors = ki)\n",
    "        kNNModel.fit(X_train,y_train.values.ravel())\n",
    "        kNNpredict = kNNModel.predict(X_validation)\n",
    "        misclassifications[i,j] = accuracy_score(y_validation,kNNpredict)\n",
    "        \n",
    "        \n",
    "average = np.mean(misclassifications, axis = 0)\n",
    "print(np.amax(average), np.argmax(average))\n",
    "\n",
    "\n",
    "best_k = np.amax(average)\n",
    "best_k_index = np.argmax(average)\n",
    "\n",
    "\n",
    "plt.plot(k, average)\n",
    "plt.plot(best_k_index,best_k, marker=\"8\")\n",
    "plt.xlabel(\"k value\")\n",
    "plt.ylabel(\"accuracy\")\n",
    "plt.show()\n",
    "    "
   ]
  },
  {
   "cell_type": "code",
   "execution_count": 21,
   "metadata": {},
   "outputs": [
    {
     "name": "stdout",
     "output_type": "stream",
     "text": [
      "The best K-value is given at k =  4 which results in the accuracy:  0.7906666666666666\n"
     ]
    },
    {
     "data": {
      "image/png": "[encoded data removed]",
      "text/plain": [
       "<Figure size 432x288 with 1 Axes>"
      ]
     },
     "metadata": {
      "needs_background": "light"
     },
     "output_type": "display_data"
    }
   ],
   "source": [
    "url = r'C:\\Users\\Anton\\Documents\\Anton_Gollbo\\Skolarbete\\STS4\\SML\\training_data.csv'\n",
    "url2 = r'C:\\Users\\Anton\\Documents\\Anton_Gollbo\\Skolarbete\\STS4\\SML\\songs_to_classify.csv'\n",
    "songTraining = pd.read_csv(url, dtype={'ID': str}).dropna().reset_index(drop=True)\n",
    "songTest = pd.read_csv(url2, dtype={'ID': str}).dropna().reset_index(drop=True)\n",
    "\n",
    "df_model = songTraining.copy()\n",
    "x = df_model.drop(columns=['label'])\n",
    "y = df_model['label']#Split data\n",
    "clf = ExtraTreesClassifier(n_estimators=10, criterion = \"entropy\")\n",
    "clf = clf.fit(x, y)\n",
    "clf.feature_importances_  \n",
    "model = SelectFromModel(clf, prefit=True)\n",
    "X = model.transform(x)\n",
    "\n",
    "crossVal = skl_ms.KFold(n_splits=10, shuffle = True)\n",
    "newsplit = crossVal.split(X)\n",
    "K = np.arange(1,100)\n",
    "misclassifications = np.zeros(len(K))\n",
    "\n",
    "for train_index, val_index in crossVal.split(X):\n",
    "    X_train, X_validation = X[train_index], X[val_index]\n",
    "    y_train, y_validation = y[train_index], y[val_index]\n",
    "    scaler = StandardScaler()\n",
    "    scaler.fit(X_train)\n",
    "    scaler.transform(X_train)\n",
    "    scaler.transform(X_validation)\n",
    "    \n",
    "    for j,k in enumerate(K):\n",
    "        kNNModel = skl_nb.KNeighborsClassifier(n_neighbors = k)\n",
    "        kNNModel.fit(X_train,y_train.values.ravel())\n",
    "        kNNpredict = kNNModel.predict(X_validation)\n",
    "        kNNpredict = kNNpredict.reshape(kNNpredict.size,1)\n",
    "        misclassifications[j] += accuracy_score(y_validation,kNNpredict)\n",
    "        \n",
    "misclassifications /= 10 \n",
    "plt.plot(K, misclassifications)\n",
    "plt.plot(np.argmax(misclassifications),max(misclassifications), marker=\"8\")\n",
    "plt.xlabel(\"k value\")\n",
    "plt.ylabel(\"cross validation accuracy\")\n",
    "best_k = np.argmax(misclassifications)\n",
    "print(\"The best K-value is given at k = \", np.argmax(misclassifications), \"which results in the accuracy: \",  max(misclassifications))\n",
    "\n",
    "X_songTest = songTest\n",
    "X_songTest_new = X_songTest[[\"acousticness\", \"danceability\", \"energy\", \"loudness\", \"speechiness\"]]\n",
    "\n",
    "kNNModel = skl_nb.KNeighborsClassifier(n_neighbors = best_k)\n",
    "kNNModel.fit(X, y)\n",
    "\n",
    "kNN_predict = kNNModel.predict(X_songTest_new)\n"
   ]
  },
  {
   "cell_type": "code",
   "execution_count": null,
   "metadata": {},
   "outputs": [],
   "source": [
    "best_k = np.argmax(misclassifications)"
   ]
  },
  {
   "cell_type": "code",
   "execution_count": null,
   "metadata": {},
   "outputs": [],
   "source": [
    "X_songTest = songTest\n",
    "X_songTest_new = X_songTest[[\"acousticness\", \"danceability\", \"energy\", \"loudness\", \"speechiness\"]]\n",
    "\n",
    "kNNModel = skl_nb.KNeighborsClassifier(n_neighbors = best_k)\n",
    "kNNModel.fit(X, y)\n",
    "\n",
    "kNN_predict = kNNModel.predict(X_songTest_new)"
   ]
  },
  {
   "cell_type": "code",
   "execution_count": null,
   "metadata": {},
   "outputs": [],
   "source": [
    "knnPredictFinal = kNNpredict"
   ]
  },
  {
   "cell_type": "code",
   "execution_count": null,
   "metadata": {},
   "outputs": [],
   "source": [
    "print(prediction)\n",
    "knn_str_prediction = str(prediction)\n",
    "\n",
    "knn_str_prediction = str_prediction.replace(\"[\", \"\")\n",
    "knn_str_prediction = str_prediction.replace(\"]\", \"\")\n",
    "knn_str_prediction = str_prediction.replace(\"\\n\", \"\")\n",
    "knn_str_prediction = str_prediction.replace(\" \", \"\")\n",
    "knn_str_prediction"
   ]
  },
  {
   "cell_type": "markdown",
   "metadata": {},
   "source": [
    "# 4. Neural network test\n"
   ]
  },
  {
   "cell_type": "code",
   "execution_count": 32,
   "metadata": {},
   "outputs": [
    {
     "name": "stdout",
     "output_type": "stream",
     "text": [
      "[0.8577777777777778, 0.8133333333333334, 0.8133333333333334, 0.8, 0.8266666666666667, 0.8088888888888889, 0.8266666666666667, 0.8044444444444444, 0.8355555555555556]\n"
     ]
    }
   ],
   "source": [
    "df_model = songTraining.copy()\n",
    "\n",
    "df_model = songTraining.copy()\n",
    "x = df_model.drop(columns=['label'])\n",
    "y = df_model['label']#Split data\n",
    "\n",
    "clf = ExtraTreesClassifier(n_estimators=10, criterion = \"entropy\")\n",
    "clf = clf.fit(x, y)\n",
    "clf.feature_importances_  \n",
    "model = SelectFromModel(clf, prefit=True)\n",
    "X = model.transform(x)\n",
    "\n",
    "accuracies = []\n",
    "mlps = []\n",
    "iterations = np.arange(1,10);\n",
    "\n",
    "for i in iterations:\n",
    "    X_train, X_validation, y_train, y_validation = skl_ms.train_test_split(X,y, test_size = 0.3)\n",
    "    mlp = MLPClassifier(hidden_layer_sizes=(10,5),max_iter=5000)\n",
    "    mlps.append(mlp.fit(X_train, y_train))\n",
    "    predictions = mlp.predict(X_validation)\n",
    "\n",
    "    iteration_accuracy = accuracy_score(y_validation,predictions)\n",
    "    accuracies.append(iteration_accuracy)\n",
    "\n",
    "print(accuracies)\n",
    "\n",
    "\n",
    "\n",
    "\n"
   ]
  },
  {
   "cell_type": "code",
   "execution_count": 36,
   "metadata": {},
   "outputs": [
    {
     "name": "stdout",
     "output_type": "stream",
     "text": [
      "MLPClassifier(activation='relu', alpha=0.0001, batch_size='auto', beta_1=0.9,\n",
      "              beta_2=0.999, early_stopping=False, epsilon=1e-08,\n",
      "              hidden_layer_sizes=(10, 5), learning_rate='constant',\n",
      "              learning_rate_init=0.001, max_iter=5000, momentum=0.9,\n",
      "              n_iter_no_change=10, nesterovs_momentum=True, power_t=0.5,\n",
      "              random_state=None, shuffle=True, solver='adam', tol=0.0001,\n",
      "              validation_fraction=0.1, verbose=False, warm_start=False) 0.8577777777777778\n"
     ]
    }
   ],
   "source": [
    "print(mlps[0], accuracies[0])"
   ]
  },
  {
   "cell_type": "code",
   "execution_count": null,
   "metadata": {},
   "outputs": [],
   "source": [
    "df_model = songTraining.copy()\n",
    "x = df_model.drop(columns=['label'])\n",
    "y = df_model['label']#Split data\n",
    "\n",
    "clf = ExtraTreesClassifier(n_estimators=10, criterion = \"entropy\")\n",
    "clf = clf.fit(x, y)\n",
    "clf.feature_importances_  \n",
    "model = SelectFromModel(clf, prefit=True)\n",
    "X = model.transform(x)\n",
    "splits = 10\n",
    "misclassifications = np.zeros(splits)\n",
    "accuracies_new = []\n",
    "layer_size = (10,5)\n",
    "i = []\n",
    "ii = 0\n",
    "crossVal = skl_ms.KFold(n_splits=splits,shuffle = True)\n",
    "newsplit = crossVal.split(X)\n",
    "\n",
    "\n",
    "for train_index, val_index in crossVal.split(X):\n",
    "    ii += 1\n",
    "    i.append(ii)\n",
    "    X_train, X_validation = X[train_index], X[val_index]\n",
    "    y_train, y_validation = y[train_index], y[val_index]\n",
    "    scaler = StandardScaler()\n",
    "    scaler.fit(X_train)\n",
    "    \n",
    "    mlpModel = MLPClassifier(hidden_layer_sizes= layer_size, max_iter = 5000)\n",
    "    mlpModel.fit(X_train, y_train)\n",
    "    mlpPredict = mlpModel.predict(X_validation)\n",
    "    iteration_accuracy = accuracy_score(y_validation,mlpPredict)\n",
    "    accuracies_new.append(iteration_accuracy)\n",
    "        \n",
    "\n",
    "\n",
    "print(\"Average accuracy:\", np.mean(accuracies_new), \"Highest accuracy: \", max(accuracies_new), \"STD: \" , np.std(accuracies_new))\n",
    "print(\"Accuracies: \", accuracies_new)\n",
    "\n",
    "best_index = np.argmax(accuracies_new)\n",
    "plt.plot(i, accuracies_new,\"*\")\n",
    "plt.plot(best_index+1, accuracies_new[best_index],marker=\"8\")\n",
    "plt.xlabel(\"k fold iteration\")\n",
    "plt.ylabel(\"cross validation accuracy\")\n",
    "plt.show()\n",
    "\n"
   ]
  },
  {
   "cell_type": "markdown",
   "metadata": {},
   "source": [
    "# 5. Always predicting LIKE\n"
   ]
  },
  {
   "cell_type": "code",
   "execution_count": 17,
   "metadata": {},
   "outputs": [
    {
     "name": "stdout",
     "output_type": "stream",
     "text": [
      "0.6026666666666667\n"
     ]
    }
   ],
   "source": [
    "df_model = songTraining.copy()\n",
    "x = df_model.drop(columns=['label'])\n",
    "y = df_model['label']\n",
    "\n",
    "prediction = np.ones(y.shape[0])\n",
    "\n",
    "always_like_prediction = accuracy_score(y,prediction)\n",
    "print(always_like_prediction)"
   ]
  },
  {
   "cell_type": "code",
   "execution_count": 14,
   "metadata": {},
   "outputs": [
    {
     "data": {
      "text/plain": [
       "750"
      ]
     },
     "execution_count": 14,
     "metadata": {},
     "output_type": "execute_result"
    }
   ],
   "source": [
    "y.shape[0]\n"
   ]
  },
  {
   "cell_type": "code",
   "execution_count": 37,
   "metadata": {},
   "outputs": [
    {
     "name": "stdout",
     "output_type": "stream",
     "text": [
      "[1 1 1 0 0 0 0 1 0 1 1 1 1 1 0 1 1 0 0 1 1 0 1 1 1 1 1 1 1 0 0 1 1 1 0 1 1\n",
      " 1 1 0 1 0 0 0 1 1 0 0 0 0 0 1 0 1 1 0 1 0 0 1 1 0 0 0 1 1 1 1 0 0 0 1 1 1\n",
      " 0 1 0 0 1 0 1 0 1 1 1 1 1 1 1 1 1 1 1 1 0 1 1 1 1 1 1 0 1 0 0 1 1 0 1 0 1\n",
      " 1 0 0 1 1 0 0 1 0 1 1 1 1 0 0 0 1 0 1 1 0 1 1 0 1 1 1 0 1 0 1 1 1 1 1 1 0\n",
      " 1 0 0 0 1 0 1 1 0 1 1 1 1 0 1 1 1 1 0 1 0 1 1 1 1 0 1 1 1 0 1 1 1 0 1 0 1\n",
      " 0 1 0 1 1 1 1 1 1 1 1 1 0 1 0]\n"
     ]
    }
   ],
   "source": [
    "X_songTest = songTest\n",
    "X_songTest_new = X_songTest[[\"acousticness\", \"danceability\", \"energy\", \"loudness\", \"speechiness\"]]\n",
    "mlps[0].fit(X, y)\n",
    "\n",
    "mlpPredictFinal = mlpModel.predict(X_songTest_new)\n",
    "mlp_str_prediction = str(mlpPredictFinal)\n",
    "\n",
    "mlp_str_prediction = mlp_str_prediction.replace(\"[\", \"\")\n",
    "mlp_str_prediction = mlp_str_prediction.replace(\"]\", \"\")\n",
    "mlp_str_prediction = mlp_str_prediction.replace(\"\\n\", \"\")\n",
    "mlp_str_prediction = mlp_str_prediction.replace(\" \", \"\")\n",
    "\n",
    "print(mlpPredictFinal)"
   ]
  },
  {
   "cell_type": "code",
   "execution_count": 9,
   "metadata": {},
   "outputs": [
    {
     "ename": "NameError",
     "evalue": "name 'knnPredictFinal' is not defined",
     "output_type": "error",
     "traceback": [
      "\u001b[1;31m---------------------------------------------------------------------------\u001b[0m",
      "\u001b[1;31mNameError\u001b[0m                                 Traceback (most recent call last)",
      "\u001b[1;32m<ipython-input-9-d2705504bf8e>\u001b[0m in \u001b[0;36m<module>\u001b[1;34m\u001b[0m\n\u001b[0;32m      2\u001b[0m \u001b[0mdifferent\u001b[0m \u001b[1;33m=\u001b[0m \u001b[1;36m0\u001b[0m\u001b[1;33m\u001b[0m\u001b[1;33m\u001b[0m\u001b[0m\n\u001b[0;32m      3\u001b[0m \u001b[1;32mfor\u001b[0m \u001b[0mi\u001b[0m \u001b[1;32min\u001b[0m \u001b[0mrange\u001b[0m\u001b[1;33m(\u001b[0m\u001b[0mlen\u001b[0m\u001b[1;33m(\u001b[0m\u001b[0mmlpPredictFinal\u001b[0m\u001b[1;33m)\u001b[0m\u001b[1;33m)\u001b[0m\u001b[1;33m:\u001b[0m\u001b[1;33m\u001b[0m\u001b[1;33m\u001b[0m\u001b[0m\n\u001b[1;32m----> 4\u001b[1;33m     \u001b[0mprint\u001b[0m\u001b[1;33m(\u001b[0m\u001b[1;34m\"mlp:\"\u001b[0m\u001b[1;33m,\u001b[0m \u001b[0mmlpPredictFinal\u001b[0m\u001b[1;33m[\u001b[0m\u001b[0mi\u001b[0m\u001b[1;33m]\u001b[0m\u001b[1;33m,\u001b[0m\u001b[1;34m\"knn\"\u001b[0m\u001b[1;33m,\u001b[0m \u001b[0mknnPredictFinal\u001b[0m\u001b[1;33m[\u001b[0m\u001b[0mi\u001b[0m\u001b[1;33m]\u001b[0m\u001b[1;33m)\u001b[0m\u001b[1;33m\u001b[0m\u001b[1;33m\u001b[0m\u001b[0m\n\u001b[0m\u001b[0;32m      5\u001b[0m     \u001b[1;32mif\u001b[0m \u001b[1;33m(\u001b[0m\u001b[0mmlpPredictFinal\u001b[0m\u001b[1;33m[\u001b[0m\u001b[0mi\u001b[0m\u001b[1;33m]\u001b[0m \u001b[1;33m==\u001b[0m \u001b[0mknnPredictFinal\u001b[0m\u001b[1;33m[\u001b[0m\u001b[0mi\u001b[0m\u001b[1;33m]\u001b[0m\u001b[1;33m)\u001b[0m\u001b[1;33m:\u001b[0m\u001b[1;33m\u001b[0m\u001b[1;33m\u001b[0m\u001b[0m\n\u001b[0;32m      6\u001b[0m         \u001b[0mequal\u001b[0m \u001b[1;33m+=\u001b[0m \u001b[1;36m1\u001b[0m\u001b[1;33m\u001b[0m\u001b[1;33m\u001b[0m\u001b[0m\n",
      "\u001b[1;31mNameError\u001b[0m: name 'knnPredictFinal' is not defined"
     ]
    }
   ],
   "source": [
    "equal = 0\n",
    "different = 0\n",
    "for i in range(len(mlpPredictFinal)):\n",
    "    print(\"mlp:\", mlpPredictFinal[i],\"knn\", knnPredictFinal[i])\n",
    "    if (mlpPredictFinal[i] == knnPredictFinal[i]):\n",
    "        equal += 1\n",
    "    elif (mlpPredictFinal[i] != knnPredictFinal[i]):\n",
    "        different += 1\n",
    "print(\"number of equal: \", equal, \"number of different: \", different)"
   ]
  },
  {
   "cell_type": "code",
   "execution_count": 38,
   "metadata": {},
   "outputs": [
    {
     "data": {
      "text/plain": [
       "'11100001011111011001101111111001110111101000110000010110100110001111000111010010101111111111110111111010011010110011001011110001011011011101011111101000101101111011110101111011101110101010111111111010'"
      ]
     },
     "execution_count": 38,
     "metadata": {},
     "output_type": "execute_result"
    }
   ],
   "source": [
    "mlp_str_prediction"
   ]
  },
  {
   "cell_type": "code",
   "execution_count": null,
   "metadata": {},
   "outputs": [],
   "source": []
  }
 ],
 "metadata": {
  "kernelspec": {
   "display_name": "Python 3",
   "language": "python",
   "name": "python3"
  },
  "language_info": {
   "codemirror_mode": {
    "name": "ipython",
    "version": 3
   },
   "file_extension": ".py",
   "mimetype": "text/x-python",
   "name": "python",
   "nbconvert_exporter": "python",
   "pygments_lexer": "ipython3",
   "version": "3.7.4"
  }
 },
 "nbformat": 4,
 "nbformat_minor": 2
}
